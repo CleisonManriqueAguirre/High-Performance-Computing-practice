{
 "cells": [
  {
   "cell_type": "code",
   "execution_count": 1,
   "metadata": {},
   "outputs": [
    {
     "ename": "ModuleNotFoundError",
     "evalue": "No module named 'cupy'",
     "output_type": "error",
     "traceback": [
      "\u001b[0;31m---------------------------------------------------------------------------\u001b[0m",
      "\u001b[0;31mModuleNotFoundError\u001b[0m                       Traceback (most recent call last)",
      "\u001b[1;32m/workspaces/High-Performance-Computing-practice/Code_3/gauss_filter.ipynb Cell 1\u001b[0m line \u001b[0;36m1\n\u001b[0;32m----> <a href='vscode-notebook-cell://codespaces%2Bubiquitous-dollop-pgw9q7qp5r5c44w/workspaces/High-Performance-Computing-practice/Code_3/gauss_filter.ipynb#W0sdnNjb2RlLXJlbW90ZQ%3D%3D?line=0'>1</a>\u001b[0m \u001b[39mimport\u001b[39;00m \u001b[39mcupy\u001b[39;00m \u001b[39mas\u001b[39;00m \u001b[39mcp\u001b[39;00m\n\u001b[1;32m      <a href='vscode-notebook-cell://codespaces%2Bubiquitous-dollop-pgw9q7qp5r5c44w/workspaces/High-Performance-Computing-practice/Code_3/gauss_filter.ipynb#W0sdnNjb2RlLXJlbW90ZQ%3D%3D?line=1'>2</a>\u001b[0m \u001b[39mimport\u001b[39;00m \u001b[39mnumpy\u001b[39;00m \u001b[39mas\u001b[39;00m \u001b[39mnp\u001b[39;00m\n",
      "\u001b[0;31mModuleNotFoundError\u001b[0m: No module named 'cupy'"
     ]
    }
   ],
   "source": [
    "import cupy as cp\n",
    "import numpy as np"
   ]
  },
  {
   "cell_type": "code",
   "execution_count": null,
   "metadata": {},
   "outputs": [],
   "source": [
    "# array on host memory\n",
    "\n",
    "x_host = np.array([1,2,3])\n",
    "type(x_host)"
   ]
  },
  {
   "cell_type": "code",
   "execution_count": null,
   "metadata": {},
   "outputs": [],
   "source": [
    "x_device=cp.array([1,2,3])\n",
    "type(x_device)"
   ]
  },
  {
   "cell_type": "code",
   "execution_count": null,
   "metadata": {},
   "outputs": [],
   "source": [
    "%%timeit\n",
    "np.linalg.norm(x_host)"
   ]
  },
  {
   "cell_type": "code",
   "execution_count": null,
   "metadata": {},
   "outputs": [],
   "source": [
    "%%timeit\n",
    "cp.linalg.norm(x_device)"
   ]
  },
  {
   "cell_type": "code",
   "execution_count": null,
   "metadata": {},
   "outputs": [],
   "source": [
    "with cp.cuda.Device(0):\n",
    "    x_on_device=cp.array([1,2,3,4,5])"
   ]
  },
  {
   "cell_type": "code",
   "execution_count": null,
   "metadata": {},
   "outputs": [],
   "source": [
    "# Create numpy array on host\n",
    "x_host = np.random.randint(0,255,(2000,2000))"
   ]
  },
  {
   "cell_type": "code",
   "execution_count": null,
   "metadata": {},
   "outputs": [],
   "source": [
    "# Transfer numpy array from host to device\n",
    "x_device = cp.asarray(x_host)"
   ]
  },
  {
   "cell_type": "code",
   "execution_count": null,
   "metadata": {},
   "outputs": [],
   "source": [
    "# Transfer supy array from device to host \n",
    "x_host_1= x_device.get()"
   ]
  },
  {
   "cell_type": "code",
   "execution_count": null,
   "metadata": {},
   "outputs": [],
   "source": [
    "# compute FFT\n",
    "from scipy.fft import fftn\n"
   ]
  },
  {
   "cell_type": "code",
   "execution_count": null,
   "metadata": {},
   "outputs": [],
   "source": [
    "%%timeit\n",
    "fftn(x_host)"
   ]
  },
  {
   "cell_type": "code",
   "execution_count": null,
   "metadata": {},
   "outputs": [],
   "source": [
    "# CUDA implememtnions\n",
    "import cupyx"
   ]
  },
  {
   "cell_type": "code",
   "execution_count": null,
   "metadata": {},
   "outputs": [],
   "source": [
    "%%timeit\n",
    "cupyx.scipy.fft.fftn(x_device)"
   ]
  },
  {
   "cell_type": "markdown",
   "metadata": {},
   "source": [
    "# Gauss Blur image"
   ]
  },
  {
   "cell_type": "code",
   "execution_count": 6,
   "metadata": {},
   "outputs": [
    {
     "ename": "FileNotFoundError",
     "evalue": "[Errno 2] No such file or directory: '/workspaces/High-Performance-Computing-practice/Code_3/bird.png'",
     "output_type": "error",
     "traceback": [
      "\u001b[0;31m---------------------------------------------------------------------------\u001b[0m",
      "\u001b[0;31mFileNotFoundError\u001b[0m                         Traceback (most recent call last)",
      "\u001b[1;32m/workspaces/High-Performance-Computing-practice/Code_3/gauss_filter.ipynb Cell 15\u001b[0m line \u001b[0;36m8\n\u001b[1;32m     <a href='vscode-notebook-cell://codespaces%2Bubiquitous-dollop-pgw9q7qp5r5c44w/workspaces/High-Performance-Computing-practice/Code_3/gauss_filter.ipynb#X21sdnNjb2RlLXJlbW90ZQ%3D%3D?line=83'>84</a>\u001b[0m gaussian_filter \u001b[39m=\u001b[39m generate_gaussian_filter(sigma, filter_shape)\n\u001b[1;32m     <a href='vscode-notebook-cell://codespaces%2Bubiquitous-dollop-pgw9q7qp5r5c44w/workspaces/High-Performance-Computing-practice/Code_3/gauss_filter.ipynb#X21sdnNjb2RlLXJlbW90ZQ%3D%3D?line=85'>86</a>\u001b[0m \u001b[39m# Load image\u001b[39;00m\n\u001b[0;32m---> <a href='vscode-notebook-cell://codespaces%2Bubiquitous-dollop-pgw9q7qp5r5c44w/workspaces/High-Performance-Computing-practice/Code_3/gauss_filter.ipynb#X21sdnNjb2RlLXJlbW90ZQ%3D%3D?line=86'>87</a>\u001b[0m img \u001b[39m=\u001b[39m np\u001b[39m.\u001b[39marray(Image\u001b[39m.\u001b[39;49mopen(\u001b[39m'\u001b[39;49m\u001b[39m./bird.png\u001b[39;49m\u001b[39m'\u001b[39;49m))\n\u001b[1;32m     <a href='vscode-notebook-cell://codespaces%2Bubiquitous-dollop-pgw9q7qp5r5c44w/workspaces/High-Performance-Computing-practice/Code_3/gauss_filter.ipynb#X21sdnNjb2RlLXJlbW90ZQ%3D%3D?line=88'>89</a>\u001b[0m \u001b[39m# Apply convolution with Gaussian filter\u001b[39;00m\n\u001b[1;32m     <a href='vscode-notebook-cell://codespaces%2Bubiquitous-dollop-pgw9q7qp5r5c44w/workspaces/High-Performance-Computing-practice/Code_3/gauss_filter.ipynb#X21sdnNjb2RlLXJlbW90ZQ%3D%3D?line=89'>90</a>\u001b[0m res \u001b[39m=\u001b[39m convolution(img, gaussian_filter)\n",
      "File \u001b[0;32m~/.local/lib/python3.10/site-packages/PIL/Image.py:3277\u001b[0m, in \u001b[0;36mopen\u001b[0;34m(fp, mode, formats)\u001b[0m\n\u001b[1;32m   3274\u001b[0m     filename \u001b[39m=\u001b[39m os\u001b[39m.\u001b[39mpath\u001b[39m.\u001b[39mrealpath(os\u001b[39m.\u001b[39mfspath(fp))\n\u001b[1;32m   3276\u001b[0m \u001b[39mif\u001b[39;00m filename:\n\u001b[0;32m-> 3277\u001b[0m     fp \u001b[39m=\u001b[39m builtins\u001b[39m.\u001b[39;49mopen(filename, \u001b[39m\"\u001b[39;49m\u001b[39mrb\u001b[39;49m\u001b[39m\"\u001b[39;49m)\n\u001b[1;32m   3278\u001b[0m     exclusive_fp \u001b[39m=\u001b[39m \u001b[39mTrue\u001b[39;00m\n\u001b[1;32m   3280\u001b[0m \u001b[39mtry\u001b[39;00m:\n",
      "\u001b[0;31mFileNotFoundError\u001b[0m: [Errno 2] No such file or directory: '/workspaces/High-Performance-Computing-practice/Code_3/bird.png'"
     ]
    }
   ],
   "source": [
    "import numpy as np\n",
    "from PIL import Image\n",
    "import matplotlib.pyplot as plt\n",
    "\n",
    "\n",
    "def generate_gaussian_filter(sigma: int | float,filter_shape: list | tuple | None):\n",
    "    # 'sigma' is the standard deviation of the gaussian distribution\n",
    "\n",
    "    m, n = filter_shape\n",
    "    m_half = m // 2\n",
    "    n_half = n // 2\n",
    "\n",
    "    # initializing the filter\n",
    "    gaussian_filter = np.zeros((m, n), np.float32)\n",
    "\n",
    "    # generating the filter\n",
    "    for y in range(-m_half, m_half):\n",
    "        for x in range(-n_half, n_half):\n",
    "            normal = 1 / (2.0 * np.pi * sigma**2.0)\n",
    "            exp_term = np.exp(-(x**2.0 + y**2.0) / (2.0 * sigma**2.0))\n",
    "            gaussian_filter[y+m_half, x+n_half] = normal * exp_term\n",
    "\n",
    "    return gaussian_filter  # Add this line\n",
    "\n",
    "\n",
    "\n",
    "\"\"\"\n",
    "Created on Wed Jan  4 12:06:28 2023\n",
    "@author: rohit krishna\n",
    "@mail   : dev.rohitnp@gmail.com\n",
    "\"\"\"\n",
    "\n",
    "import numpy as np\n",
    "\n",
    "\n",
    "def convolution(image: np.ndarray, kernel: list | tuple) -> np.ndarray:\n",
    "    '''\n",
    "    It is a \"valid\" Convolution algorithm implementaion.\n",
    "    ### Example\n",
    "    >>> import numpy as np\n",
    "    >>> from PIL import Image\n",
    "    >>>\n",
    "    >>> kernel = np.array(\n",
    "    >>>     [[-1, 0, 1],\n",
    "    >>>     [-2, 0, 2],\n",
    "    >>>     [-1, 0, 1]], np.float32\n",
    "    >>> )\n",
    "    >>> img = np.array(Image.open('./lenna.png'))\n",
    "    >>> res = convolution(img, Kx)\n",
    "    '''\n",
    "\n",
    "    if len(image.shape) == 3:\n",
    "        m_i, n_i, c_i = image.shape\n",
    "\n",
    "    # if the image is gray then we won't be having an extra channel so handling it\n",
    "    elif len(image.shape) == 2:\n",
    "        image = image[..., np.newaxis]\n",
    "        m_i, n_i, c_i = image.shape\n",
    "    else:\n",
    "        raise Exception('Shape of image not supported')\n",
    "\n",
    "    m_k, n_k = kernel.shape\n",
    "\n",
    "    y_strides = m_i - m_k + 1  # possible number of strides in y direction\n",
    "    x_strides = n_i - n_k + 1  # possible number of strides in x direction\n",
    "\n",
    "    img = image.copy()\n",
    "    output_shape = (m_i-m_k+1, n_i-n_k+1, c_i)\n",
    "    output = np.zeros(output_shape, dtype=np.float32)\n",
    "\n",
    "    count = 0  # taking count of the convolution operation being happening\n",
    "\n",
    "    output_tmp = output.reshape(\n",
    "        (output_shape[0]*output_shape[1], output_shape[2])\n",
    "    )\n",
    "\n",
    "    for i in range(y_strides):\n",
    "        for j in range(x_strides):\n",
    "            for c in range(c_i): # looping over the all channels\n",
    "                sub_matrix = img[i:i+m_k, j:j+n_k, c]\n",
    "\n",
    "                output_tmp[count, c] = np.sum(sub_matrix * kernel)\n",
    "\n",
    "            count += 1\n",
    "\n",
    "    output = output_tmp.reshape(output_shape)\n",
    "\n",
    "    return output\n",
    "\n",
    "# Generate Gaussian filter\n",
    "sigma = 1.0  # Standard deviation\n",
    "filter_shape = (5, 5)  # Filter size\n",
    "gaussian_filter = generate_gaussian_filter(sigma, filter_shape)\n",
    "\n",
    "# Load image\n",
    "img = np.array(Image.open('./bird.png'))\n",
    "\n",
    "# Apply convolution with Gaussian filter\n",
    "res = convolution(img, gaussian_filter)\n",
    "\n",
    "# Display the result\n",
    "plt.imshow(res.astype(np.uint8))\n",
    "plt.show()"
   ]
  },
  {
   "cell_type": "code",
   "execution_count": null,
   "metadata": {},
   "outputs": [],
   "source": []
  },
  {
   "cell_type": "markdown",
   "metadata": {},
   "source": [
    "# cupy"
   ]
  },
  {
   "cell_type": "code",
   "execution_count": 8,
   "metadata": {},
   "outputs": [
    {
     "ename": "ModuleNotFoundError",
     "evalue": "No module named 'cupy'",
     "output_type": "error",
     "traceback": [
      "\u001b[0;31m---------------------------------------------------------------------------\u001b[0m",
      "\u001b[0;31mModuleNotFoundError\u001b[0m                       Traceback (most recent call last)",
      "\u001b[1;32m/workspaces/High-Performance-Computing-practice/Code_3/gauss_filter.ipynb Cell 17\u001b[0m line \u001b[0;36m2\n\u001b[1;32m      <a href='vscode-notebook-cell://codespaces%2Bubiquitous-dollop-pgw9q7qp5r5c44w/workspaces/High-Performance-Computing-practice/Code_3/gauss_filter.ipynb#X26sdnNjb2RlLXJlbW90ZQ%3D%3D?line=0'>1</a>\u001b[0m \u001b[39mimport\u001b[39;00m \u001b[39mnumpy\u001b[39;00m \u001b[39mas\u001b[39;00m \u001b[39mnp\u001b[39;00m\n\u001b[0;32m----> <a href='vscode-notebook-cell://codespaces%2Bubiquitous-dollop-pgw9q7qp5r5c44w/workspaces/High-Performance-Computing-practice/Code_3/gauss_filter.ipynb#X26sdnNjb2RlLXJlbW90ZQ%3D%3D?line=1'>2</a>\u001b[0m \u001b[39mimport\u001b[39;00m \u001b[39mcupy\u001b[39;00m \u001b[39mas\u001b[39;00m \u001b[39mcp\u001b[39;00m\n\u001b[1;32m      <a href='vscode-notebook-cell://codespaces%2Bubiquitous-dollop-pgw9q7qp5r5c44w/workspaces/High-Performance-Computing-practice/Code_3/gauss_filter.ipynb#X26sdnNjb2RlLXJlbW90ZQ%3D%3D?line=2'>3</a>\u001b[0m \u001b[39mfrom\u001b[39;00m \u001b[39mcupyx\u001b[39;00m\u001b[39m.\u001b[39;00m\u001b[39mscipy\u001b[39;00m\u001b[39m.\u001b[39;00m\u001b[39msignal\u001b[39;00m \u001b[39mimport\u001b[39;00m convolve2d \u001b[39mas\u001b[39;00m convolve2d_gpu\n\u001b[1;32m      <a href='vscode-notebook-cell://codespaces%2Bubiquitous-dollop-pgw9q7qp5r5c44w/workspaces/High-Performance-Computing-practice/Code_3/gauss_filter.ipynb#X26sdnNjb2RlLXJlbW90ZQ%3D%3D?line=3'>4</a>\u001b[0m \u001b[39mfrom\u001b[39;00m \u001b[39mPIL\u001b[39;00m \u001b[39mimport\u001b[39;00m Image\n",
      "\u001b[0;31mModuleNotFoundError\u001b[0m: No module named 'cupy'"
     ]
    }
   ],
   "source": [
    "import numpy as np\n",
    "import cupy as cp\n",
    "from cupyx.scipy.signal import convolve2d as convolve2d_gpu\n",
    "from PIL import Image\n",
    "import matplotlib.pyplot as plt\n",
    "\n",
    "def generate_gaussian_filter(sigma: int | float, filter_shape: list | tuple | None):\n",
    "    m, n = filter_shape\n",
    "    m_half = m // 2\n",
    "    n_half = n // 2\n",
    "\n",
    "    gaussian_filter = np.zeros((m, n), np.float32)\n",
    "\n",
    "    for y in range(-m_half, m_half):\n",
    "        for x in range(-n_half, n_half):\n",
    "            normal = 1 / (2.0 * np.pi * sigma**2.0)\n",
    "            exp_term = np.exp(-(x**2.0 + y**2.0) / (2.0 * sigma**2.0))\n",
    "            gaussian_filter[y+m_half, x+n_half] = normal * exp_term\n",
    "\n",
    "    return gaussian_filter\n",
    "\n",
    "def convolution(image: np.ndarray, kernel: list | tuple) -> np.ndarray:\n",
    "    if len(image.shape) == 3:\n",
    "        m_i, n_i, c_i = image.shape\n",
    "    elif len(image.shape) == 2:\n",
    "        image = image[..., np.newaxis]\n",
    "        m_i, n_i, c_i = image.shape\n",
    "    else:\n",
    "        raise Exception('Shape of image not supported')\n",
    "\n",
    "    output = np.zeros_like(image, dtype=np.float32)\n",
    "\n",
    "    for c in range(c_i):\n",
    "        output[..., c] = convolve2d_gpu(cp.asarray(image[..., c]), cp.asarray(kernel), mode='same').get()\n",
    "\n",
    "    return output\n",
    "\n",
    "sigma = 1.0\n",
    "filter_shape = (5, 5)\n",
    "gaussian_filter = generate_gaussian_filter(sigma, filter_shape)\n",
    "\n",
    "img = np.array(Image.open('./bird.png'))\n",
    "\n",
    "res = convolution(img, gaussian_filter)\n",
    "\n",
    "plt.imshow(res.astype(np.uint8))\n",
    "plt.show()"
   ]
  },
  {
   "cell_type": "markdown",
   "metadata": {},
   "source": [
    "# Mean "
   ]
  },
  {
   "cell_type": "code",
   "execution_count": null,
   "metadata": {},
   "outputs": [],
   "source": [
    "import numpy as np\n",
    "import cupy as cp\n",
    "from cupyx.scipy.signal import convolve2d as convolve2d_gpu\n",
    "from PIL import Image\n",
    "import matplotlib.pyplot as plt\n",
    "\n",
    "def generate_mean_filter(filter_shape: list | tuple | None):\n",
    "    m, n = filter_shape\n",
    "    return np.ones((m, n), np.float32) / (m * n)\n",
    "\n",
    "def convolution(image: np.ndarray, kernel: list | tuple) -> np.ndarray:\n",
    "    if len(image.shape) == 3:\n",
    "        m_i, n_i, c_i = image.shape\n",
    "    elif len(image.shape) == 2:\n",
    "        image = image[..., np.newaxis]\n",
    "        m_i, n_i, c_i = image.shape\n",
    "    else:\n",
    "        raise Exception('Shape of image not supported')\n",
    "\n",
    "    output = np.zeros_like(image, dtype=np.float32)\n",
    "\n",
    "    for c in range(c_i):\n",
    "        output[..., c] = convolve2d_gpu(cp.asarray(image[..., c]), cp.asarray(kernel), mode='same').get()\n",
    "\n",
    "    return output                     \n",
    "\n",
    "sigma = 1.0\n",
    "filter_shape = (5, 5)\n",
    "gaussian_filter = generate_gaussian_filter(sigma, filter_shape)\n",
    "\n",
    "img = np.array(Image.open('./bird.png'))\n",
    "\n",
    "res = convolution(img, gaussian_filter)\n",
    "\n",
    "plt.imshow(res.astype(np.uint8))\n",
    "plt.show()"
   ]
  },
  {
   "cell_type": "markdown",
   "metadata": {},
   "source": [
    "# Grayscale"
   ]
  },
  {
   "cell_type": "code",
   "execution_count": null,
   "metadata": {},
   "outputs": [],
   "source": []
  }
 ],
 "metadata": {
  "language_info": {
   "name": "python"
  }
 },
 "nbformat": 4,
 "nbformat_minor": 2
}
